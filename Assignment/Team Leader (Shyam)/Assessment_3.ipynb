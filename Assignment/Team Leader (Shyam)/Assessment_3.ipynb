{
  "nbformat": 4,
  "nbformat_minor": 0,
  "metadata": {
    "colab": {
      "provenance": [],
      "include_colab_link": true
    },
    "kernelspec": {
      "name": "python3",
      "display_name": "Python 3"
    },
    "language_info": {
      "name": "python"
    },
    "gpuClass": "standard"
  },
  "cells": [
    {
      "cell_type": "markdown",
      "metadata": {
        "id": "view-in-github",
        "colab_type": "text"
      },
      "source": [
        "<a href=\"https://colab.research.google.com/github/IBM-EPBL/IBM-Project-21468-1664179525/blob/main/Assignment/Team%20Leader%20(Shyam)/Assessment_3.ipynb\" target=\"_parent\"><img src=\"https://colab.research.google.com/assets/colab-badge.svg\" alt=\"Open In Colab\"/></a>"
      ]
    },
    {
      "cell_type": "markdown",
      "source": [
        "#1.Download And Extracting Dataset"
      ],
      "metadata": {
        "id": "8awSpfihfOCF"
      }
    },
    {
      "cell_type": "code",
      "source": [
        "from google.colab import drive\n",
        "drive.mount('/content/gdrive')"
      ],
      "metadata": {
        "colab": {
          "base_uri": "https://localhost:8080/",
          "height": 328
        },
        "id": "MVMXJ9gort9s",
        "outputId": "c4e8fc0c-8f47-4e50-de57-c9f54ded94ab"
      },
      "execution_count": 1,
      "outputs": [
        {
          "output_type": "error",
          "ename": "MessageError",
          "evalue": "ignored",
          "traceback": [
            "\u001b[0;31m---------------------------------------------------------------------------\u001b[0m",
            "\u001b[0;31mMessageError\u001b[0m                              Traceback (most recent call last)",
            "\u001b[0;32m<ipython-input-1-4996ee3d8d09>\u001b[0m in \u001b[0;36m<module>\u001b[0;34m\u001b[0m\n\u001b[1;32m      1\u001b[0m \u001b[0;32mfrom\u001b[0m \u001b[0mgoogle\u001b[0m\u001b[0;34m.\u001b[0m\u001b[0mcolab\u001b[0m \u001b[0;32mimport\u001b[0m \u001b[0mdrive\u001b[0m\u001b[0;34m\u001b[0m\u001b[0;34m\u001b[0m\u001b[0m\n\u001b[0;32m----> 2\u001b[0;31m \u001b[0mdrive\u001b[0m\u001b[0;34m.\u001b[0m\u001b[0mmount\u001b[0m\u001b[0;34m(\u001b[0m\u001b[0;34m'/content/gdrive'\u001b[0m\u001b[0;34m)\u001b[0m\u001b[0;34m\u001b[0m\u001b[0;34m\u001b[0m\u001b[0m\n\u001b[0m",
            "\u001b[0;32m/usr/local/lib/python3.7/dist-packages/google/colab/drive.py\u001b[0m in \u001b[0;36mmount\u001b[0;34m(mountpoint, force_remount, timeout_ms, readonly)\u001b[0m\n\u001b[1;32m    104\u001b[0m       \u001b[0mtimeout_ms\u001b[0m\u001b[0;34m=\u001b[0m\u001b[0mtimeout_ms\u001b[0m\u001b[0;34m,\u001b[0m\u001b[0;34m\u001b[0m\u001b[0;34m\u001b[0m\u001b[0m\n\u001b[1;32m    105\u001b[0m       \u001b[0mephemeral\u001b[0m\u001b[0;34m=\u001b[0m\u001b[0;32mTrue\u001b[0m\u001b[0;34m,\u001b[0m\u001b[0;34m\u001b[0m\u001b[0;34m\u001b[0m\u001b[0m\n\u001b[0;32m--> 106\u001b[0;31m       readonly=readonly)\n\u001b[0m\u001b[1;32m    107\u001b[0m \u001b[0;34m\u001b[0m\u001b[0m\n\u001b[1;32m    108\u001b[0m \u001b[0;34m\u001b[0m\u001b[0m\n",
            "\u001b[0;32m/usr/local/lib/python3.7/dist-packages/google/colab/drive.py\u001b[0m in \u001b[0;36m_mount\u001b[0;34m(mountpoint, force_remount, timeout_ms, ephemeral, readonly)\u001b[0m\n\u001b[1;32m    123\u001b[0m   \u001b[0;32mif\u001b[0m \u001b[0mephemeral\u001b[0m\u001b[0;34m:\u001b[0m\u001b[0;34m\u001b[0m\u001b[0;34m\u001b[0m\u001b[0m\n\u001b[1;32m    124\u001b[0m     _message.blocking_request(\n\u001b[0;32m--> 125\u001b[0;31m         'request_auth', request={'authType': 'dfs_ephemeral'}, timeout_sec=None)\n\u001b[0m\u001b[1;32m    126\u001b[0m \u001b[0;34m\u001b[0m\u001b[0m\n\u001b[1;32m    127\u001b[0m   \u001b[0mmountpoint\u001b[0m \u001b[0;34m=\u001b[0m \u001b[0m_os\u001b[0m\u001b[0;34m.\u001b[0m\u001b[0mpath\u001b[0m\u001b[0;34m.\u001b[0m\u001b[0mexpanduser\u001b[0m\u001b[0;34m(\u001b[0m\u001b[0mmountpoint\u001b[0m\u001b[0;34m)\u001b[0m\u001b[0;34m\u001b[0m\u001b[0;34m\u001b[0m\u001b[0m\n",
            "\u001b[0;32m/usr/local/lib/python3.7/dist-packages/google/colab/_message.py\u001b[0m in \u001b[0;36mblocking_request\u001b[0;34m(request_type, request, timeout_sec, parent)\u001b[0m\n\u001b[1;32m    169\u001b[0m   request_id = send_request(\n\u001b[1;32m    170\u001b[0m       request_type, request, parent=parent, expect_reply=True)\n\u001b[0;32m--> 171\u001b[0;31m   \u001b[0;32mreturn\u001b[0m \u001b[0mread_reply_from_input\u001b[0m\u001b[0;34m(\u001b[0m\u001b[0mrequest_id\u001b[0m\u001b[0;34m,\u001b[0m \u001b[0mtimeout_sec\u001b[0m\u001b[0;34m)\u001b[0m\u001b[0;34m\u001b[0m\u001b[0;34m\u001b[0m\u001b[0m\n\u001b[0m",
            "\u001b[0;32m/usr/local/lib/python3.7/dist-packages/google/colab/_message.py\u001b[0m in \u001b[0;36mread_reply_from_input\u001b[0;34m(message_id, timeout_sec)\u001b[0m\n\u001b[1;32m    100\u001b[0m         reply.get('colab_msg_id') == message_id):\n\u001b[1;32m    101\u001b[0m       \u001b[0;32mif\u001b[0m \u001b[0;34m'error'\u001b[0m \u001b[0;32min\u001b[0m \u001b[0mreply\u001b[0m\u001b[0;34m:\u001b[0m\u001b[0;34m\u001b[0m\u001b[0;34m\u001b[0m\u001b[0m\n\u001b[0;32m--> 102\u001b[0;31m         \u001b[0;32mraise\u001b[0m \u001b[0mMessageError\u001b[0m\u001b[0;34m(\u001b[0m\u001b[0mreply\u001b[0m\u001b[0;34m[\u001b[0m\u001b[0;34m'error'\u001b[0m\u001b[0;34m]\u001b[0m\u001b[0;34m)\u001b[0m\u001b[0;34m\u001b[0m\u001b[0;34m\u001b[0m\u001b[0m\n\u001b[0m\u001b[1;32m    103\u001b[0m       \u001b[0;32mreturn\u001b[0m \u001b[0mreply\u001b[0m\u001b[0;34m.\u001b[0m\u001b[0mget\u001b[0m\u001b[0;34m(\u001b[0m\u001b[0;34m'data'\u001b[0m\u001b[0;34m,\u001b[0m \u001b[0;32mNone\u001b[0m\u001b[0;34m)\u001b[0m\u001b[0;34m\u001b[0m\u001b[0;34m\u001b[0m\u001b[0m\n\u001b[1;32m    104\u001b[0m \u001b[0;34m\u001b[0m\u001b[0m\n",
            "\u001b[0;31mMessageError\u001b[0m: Error: credential propagation was unsuccessful"
          ]
        }
      ]
    },
    {
      "cell_type": "code",
      "execution_count": 4,
      "metadata": {
        "colab": {
          "base_uri": "https://localhost:8080/"
        },
        "id": "JyFHVNN-S-nL",
        "outputId": "c5b7cebb-beaf-4b1e-d2b4-2f0dc345b013"
      },
      "outputs": [
        {
          "output_type": "stream",
          "name": "stdout",
          "text": [
            "Archive:  /content/drive/MyDrive/Flowers-Dataset.zip\n",
            "  End-of-central-directory signature not found.  Either this file is not\n",
            "  a zipfile, or it constitutes one disk of a multi-part archive.  In the\n",
            "  latter case the central directory and zipfile comment will be found on\n",
            "  the last disk(s) of this archive.\n",
            "unzip:  cannot find zipfile directory in one of /content/drive/MyDrive/Flowers-Dataset.zip or\n",
            "        /content/drive/MyDrive/Flowers-Dataset.zip.zip, and cannot find /content/drive/MyDrive/Flowers-Dataset.zip.ZIP, period.\n"
          ]
        }
      ],
      "source": [
        "!unzip '/content/drive/MyDrive/Flowers-Dataset.zip'"
      ]
    },
    {
      "cell_type": "markdown",
      "source": [
        "# 2. Image Augmentation"
      ],
      "metadata": {
        "id": "zrbG_LSIe4kI"
      }
    },
    {
      "cell_type": "code",
      "source": [
        "from tensorflow.keras.preprocessing.image import ImageDataGenerator"
      ],
      "metadata": {
        "id": "MTt7qr85fgNm"
      },
      "execution_count": null,
      "outputs": []
    },
    {
      "cell_type": "code",
      "source": [
        "train_data=ImageDataGenerator(rescale=1./255,zoom_range=0.2,horizontal_flip=True)"
      ],
      "metadata": {
        "id": "bDhHpSNokArK"
      },
      "execution_count": null,
      "outputs": []
    },
    {
      "cell_type": "code",
      "source": [
        "test_data=ImageDataGenerator(rescale=1./255)"
      ],
      "metadata": {
        "id": "ON-fzkRXkbQ8"
      },
      "execution_count": null,
      "outputs": []
    },
    {
      "cell_type": "code",
      "source": [
        "xtrain=train_data.flow_from_directory('/content/Flowers-Dataset/Train',\n",
        "                                      target_size=(64,64),\n",
        "                                      class_mode='categorical',\n",
        "                                      batch_size=100)"
      ],
      "metadata": {
        "colab": {
          "base_uri": "https://localhost:8080/"
        },
        "id": "BqTCKVsIkn7V",
        "outputId": "2e2b8167-c964-451c-b757-46b504a202b3"
      },
      "execution_count": null,
      "outputs": [
        {
          "output_type": "stream",
          "name": "stdout",
          "text": [
            "Found 4317 images belonging to 5 classes.\n"
          ]
        }
      ]
    },
    {
      "cell_type": "code",
      "source": [
        "xtest=test_data.flow_from_directory('/content/Flowers-Dataset/Test',\n",
        "                                         target_size=(64,64),\n",
        "                                         class_mode='categorical',\n",
        "                                         batch_size=100)"
      ],
      "metadata": {
        "colab": {
          "base_uri": "https://localhost:8080/"
        },
        "id": "mslWJ698k1-o",
        "outputId": "74a3f0d9-84d0-49a3-a45a-ecab1af76262"
      },
      "execution_count": null,
      "outputs": [
        {
          "output_type": "stream",
          "name": "stdout",
          "text": [
            "Found 2153 images belonging to 5 classes.\n"
          ]
        }
      ]
    },
    {
      "cell_type": "markdown",
      "source": [
        "#3. Creating CNN Model"
      ],
      "metadata": {
        "id": "qE9Opo5ZlF1j"
      }
    },
    {
      "cell_type": "code",
      "source": [
        "from tensorflow.keras.models import Sequential\n",
        "from tensorflow.keras.layers import Convolution2D,MaxPooling2D,Flatten,Dense"
      ],
      "metadata": {
        "id": "F8Zsr1xPlHkn"
      },
      "execution_count": null,
      "outputs": []
    },
    {
      "cell_type": "markdown",
      "source": [
        "#4. Add Layers (Convolution,MaxPooling,Flatten,Dense-(HiddenLayers),Output"
      ],
      "metadata": {
        "id": "U2k-y0xglyd3"
      }
    },
    {
      "cell_type": "code",
      "source": [
        "model=Sequential()\n",
        "model.add(Convolution2D(32,(3,3),activation='relu',input_shape=(64,64,3)))\n",
        "model.add(MaxPooling2D(pool_size=(2,2)))\n",
        "model.add(Flatten())\n",
        "model.add(Dense(300,activation='relu'))\n",
        "model.add(Dense(150,activation='relu'))\n",
        "model.add(Dense(5,activation='softmax'))"
      ],
      "metadata": {
        "id": "LWfaSLBWlzqG"
      },
      "execution_count": null,
      "outputs": []
    },
    {
      "cell_type": "markdown",
      "source": [
        "#5. Compile the Model"
      ],
      "metadata": {
        "id": "-HutPlv2l7bF"
      }
    },
    {
      "cell_type": "code",
      "source": [
        "model.compile(optimizer='adam',loss='categorical_crossentropy',metrics=['accuracy'])"
      ],
      "metadata": {
        "id": "Zdff6ATql8wF"
      },
      "execution_count": null,
      "outputs": []
    },
    {
      "cell_type": "markdown",
      "source": [
        "#6. Fit the Model"
      ],
      "metadata": {
        "id": "UpJk72rYmOHC"
      }
    },
    {
      "cell_type": "code",
      "source": [
        "model.fit_generator(xtrain,steps_per_epoch=len(xtrain),\n",
        "          epochs=30,validation_data=xtest,validation_steps=len(xtest))"
      ],
      "metadata": {
        "colab": {
          "base_uri": "https://localhost:8080/"
        },
        "id": "71s1PgezmWB7",
        "outputId": "51310ed8-2c2d-47b8-b51b-1c2ddf2123f4"
      },
      "execution_count": null,
      "outputs": [
        {
          "output_type": "stream",
          "name": "stderr",
          "text": [
            "/usr/local/lib/python3.7/dist-packages/ipykernel_launcher.py:2: UserWarning: `Model.fit_generator` is deprecated and will be removed in a future version. Please use `Model.fit`, which supports generators.\n",
            "  \n"
          ]
        },
        {
          "output_type": "stream",
          "name": "stdout",
          "text": [
            "Epoch 1/30\n",
            "44/44 [==============================] - 28s 430ms/step - loss: 1.5470 - accuracy: 0.4049 - val_loss: 1.2019 - val_accuracy: 0.5067\n",
            "Epoch 2/30\n",
            "44/44 [==============================] - 19s 430ms/step - loss: 1.1069 - accuracy: 0.5631 - val_loss: 1.1173 - val_accuracy: 0.5685\n",
            "Epoch 3/30\n",
            "44/44 [==============================] - 19s 427ms/step - loss: 0.9834 - accuracy: 0.6155 - val_loss: 1.0185 - val_accuracy: 0.6196\n",
            "Epoch 4/30\n",
            "44/44 [==============================] - 19s 428ms/step - loss: 0.9193 - accuracy: 0.6567 - val_loss: 0.9206 - val_accuracy: 0.6484\n",
            "Epoch 5/30\n",
            "44/44 [==============================] - 19s 428ms/step - loss: 0.8687 - accuracy: 0.6722 - val_loss: 0.9433 - val_accuracy: 0.6628\n",
            "Epoch 6/30\n",
            "44/44 [==============================] - 19s 431ms/step - loss: 0.8124 - accuracy: 0.6912 - val_loss: 0.7886 - val_accuracy: 0.7074\n",
            "Epoch 7/30\n",
            "44/44 [==============================] - 20s 465ms/step - loss: 0.7725 - accuracy: 0.6975 - val_loss: 0.7427 - val_accuracy: 0.7222\n",
            "Epoch 8/30\n",
            "44/44 [==============================] - 19s 433ms/step - loss: 0.7234 - accuracy: 0.7223 - val_loss: 0.6918 - val_accuracy: 0.7422\n",
            "Epoch 9/30\n",
            "44/44 [==============================] - 19s 433ms/step - loss: 0.6955 - accuracy: 0.7359 - val_loss: 0.6690 - val_accuracy: 0.7418\n",
            "Epoch 10/30\n",
            "44/44 [==============================] - 19s 440ms/step - loss: 0.6773 - accuracy: 0.7382 - val_loss: 0.6384 - val_accuracy: 0.7659\n",
            "Epoch 11/30\n",
            "44/44 [==============================] - 19s 437ms/step - loss: 0.6493 - accuracy: 0.7600 - val_loss: 0.5319 - val_accuracy: 0.8021\n",
            "Epoch 12/30\n",
            "44/44 [==============================] - 19s 428ms/step - loss: 0.5988 - accuracy: 0.7783 - val_loss: 0.5858 - val_accuracy: 0.7826\n",
            "Epoch 13/30\n",
            "44/44 [==============================] - 19s 430ms/step - loss: 0.5944 - accuracy: 0.7806 - val_loss: 0.5410 - val_accuracy: 0.7942\n",
            "Epoch 14/30\n",
            "44/44 [==============================] - 19s 430ms/step - loss: 0.5683 - accuracy: 0.7945 - val_loss: 0.5206 - val_accuracy: 0.8026\n",
            "Epoch 15/30\n",
            "44/44 [==============================] - 19s 434ms/step - loss: 0.5316 - accuracy: 0.8054 - val_loss: 0.4452 - val_accuracy: 0.8277\n",
            "Epoch 16/30\n",
            "44/44 [==============================] - 19s 431ms/step - loss: 0.5106 - accuracy: 0.8107 - val_loss: 0.4802 - val_accuracy: 0.8230\n",
            "Epoch 17/30\n",
            "44/44 [==============================] - 19s 432ms/step - loss: 0.4905 - accuracy: 0.8205 - val_loss: 0.4449 - val_accuracy: 0.8356\n",
            "Epoch 18/30\n",
            "44/44 [==============================] - 20s 463ms/step - loss: 0.4374 - accuracy: 0.8471 - val_loss: 0.3557 - val_accuracy: 0.8806\n",
            "Epoch 19/30\n",
            "44/44 [==============================] - 19s 432ms/step - loss: 0.4174 - accuracy: 0.8508 - val_loss: 0.3243 - val_accuracy: 0.8885\n",
            "Epoch 20/30\n",
            "44/44 [==============================] - 19s 429ms/step - loss: 0.4022 - accuracy: 0.8601 - val_loss: 0.3736 - val_accuracy: 0.8607\n",
            "Epoch 21/30\n",
            "44/44 [==============================] - 19s 434ms/step - loss: 0.3852 - accuracy: 0.8612 - val_loss: 0.4108 - val_accuracy: 0.8458\n",
            "Epoch 22/30\n",
            "44/44 [==============================] - 19s 438ms/step - loss: 0.3749 - accuracy: 0.8714 - val_loss: 0.2965 - val_accuracy: 0.8941\n",
            "Epoch 23/30\n",
            "44/44 [==============================] - 19s 437ms/step - loss: 0.3834 - accuracy: 0.8647 - val_loss: 0.2925 - val_accuracy: 0.8960\n",
            "Epoch 24/30\n",
            "44/44 [==============================] - 19s 429ms/step - loss: 0.3311 - accuracy: 0.8812 - val_loss: 0.3378 - val_accuracy: 0.8802\n",
            "Epoch 25/30\n",
            "44/44 [==============================] - 19s 432ms/step - loss: 0.3279 - accuracy: 0.8867 - val_loss: 0.3220 - val_accuracy: 0.8802\n",
            "Epoch 26/30\n",
            "44/44 [==============================] - 19s 432ms/step - loss: 0.2912 - accuracy: 0.8932 - val_loss: 0.1876 - val_accuracy: 0.9378\n",
            "Epoch 27/30\n",
            "44/44 [==============================] - 19s 432ms/step - loss: 0.2603 - accuracy: 0.9085 - val_loss: 0.2571 - val_accuracy: 0.9052\n",
            "Epoch 28/30\n",
            "44/44 [==============================] - 19s 430ms/step - loss: 0.2859 - accuracy: 0.8992 - val_loss: 0.4212 - val_accuracy: 0.8648\n",
            "Epoch 29/30\n",
            "44/44 [==============================] - 20s 460ms/step - loss: 0.2973 - accuracy: 0.8976 - val_loss: 0.2287 - val_accuracy: 0.9201\n",
            "Epoch 30/30\n",
            "44/44 [==============================] - 19s 429ms/step - loss: 0.2370 - accuracy: 0.9192 - val_loss: 0.1680 - val_accuracy: 0.9433\n"
          ]
        },
        {
          "output_type": "execute_result",
          "data": {
            "text/plain": [
              "<keras.callbacks.History at 0x7f02000be7d0>"
            ]
          },
          "metadata": {},
          "execution_count": 11
        }
      ]
    },
    {
      "cell_type": "markdown",
      "source": [
        "#7.Save The Model"
      ],
      "metadata": {
        "id": "bXQgtoArphY0"
      }
    },
    {
      "cell_type": "code",
      "source": [
        "model.save('flowers.h5')"
      ],
      "metadata": {
        "id": "s3tsXu8JpxZO"
      },
      "execution_count": null,
      "outputs": []
    },
    {
      "cell_type": "markdown",
      "source": [
        "#8. Test the Model"
      ],
      "metadata": {
        "id": "DUr1gxDbp_Ax"
      }
    },
    {
      "cell_type": "code",
      "source": [
        "from tensorflow.keras.preprocessing import image\n",
        "import numpy as np"
      ],
      "metadata": {
        "id": "d6edFFcTp-iX"
      },
      "execution_count": null,
      "outputs": []
    },
    {
      "cell_type": "code",
      "source": [
        "#Testing 1\n",
        "\n",
        "fl_img='/content/Flowers-Dataset/Test/rose/9404876600_04f6d37685.jpg' \n",
        "img=image.load_img(fl_img,target_size=(64,64))\n",
        "x=image.img_to_array(img)\n",
        "x=np.expand_dims(x,axis=0)\n",
        "pred=np.argmax(model.predict(x))\n",
        "op=['daisy','dandelion','rose','sunflower','tulip']\n",
        "op[pred]"
      ],
      "metadata": {
        "colab": {
          "base_uri": "https://localhost:8080/",
          "height": 53
        },
        "id": "VSmigDzaqJ40",
        "outputId": "6e59ec4a-82d2-4f98-b6dd-b318ebe00512"
      },
      "execution_count": null,
      "outputs": [
        {
          "output_type": "stream",
          "name": "stdout",
          "text": [
            "1/1 [==============================] - 0s 116ms/step\n"
          ]
        },
        {
          "output_type": "execute_result",
          "data": {
            "text/plain": [
              "'rose'"
            ],
            "application/vnd.google.colaboratory.intrinsic+json": {
              "type": "string"
            }
          },
          "metadata": {},
          "execution_count": 14
        }
      ]
    },
    {
      "cell_type": "code",
      "source": [
        "#Testing 2\n",
        "\n",
        "fl_img='/content/Flowers-Dataset/Test/daisy/100080576_f52e8ee070_n.jpg'\n",
        "img=image.load_img(fl_img,target_size=(64,64))\n",
        "x=image.img_to_array(img)\n",
        "x=np.expand_dims(x,axis=0)\n",
        "pred=np.argmax(model.predict(x))\n",
        "op=['daisy','dandelion','rose','sunflower','tulip']\n",
        "op[pred]"
      ],
      "metadata": {
        "colab": {
          "base_uri": "https://localhost:8080/",
          "height": 53
        },
        "id": "ZLNk6-aCqYvE",
        "outputId": "1ccaffab-98c0-4e4b-dfca-d2ebfe749d0d"
      },
      "execution_count": null,
      "outputs": [
        {
          "output_type": "stream",
          "name": "stdout",
          "text": [
            "1/1 [==============================] - 0s 15ms/step\n"
          ]
        },
        {
          "output_type": "execute_result",
          "data": {
            "text/plain": [
              "'daisy'"
            ],
            "application/vnd.google.colaboratory.intrinsic+json": {
              "type": "string"
            }
          },
          "metadata": {},
          "execution_count": 22
        }
      ]
    },
    {
      "cell_type": "code",
      "source": [
        "#Testing 3\n",
        "\n",
        "fl_img='/content/Flowers-Dataset/Test/tulip/112334842_3ecf7585dd.jpg'\n",
        "img=image.load_img(fl_img,target_size=(64,64))\n",
        "x=image.img_to_array(img)\n",
        "x=np.expand_dims(x,axis=0)\n",
        "pred=np.argmax(model.predict(x))\n",
        "op=['daisy','dandelion','rose','sunflower','tulip']\n",
        "op[pred]"
      ],
      "metadata": {
        "colab": {
          "base_uri": "https://localhost:8080/",
          "height": 53
        },
        "id": "FVpgh1bFqYTe",
        "outputId": "cb95cfd4-9548-4b07-f19a-b0455f778892"
      },
      "execution_count": null,
      "outputs": [
        {
          "output_type": "stream",
          "name": "stdout",
          "text": [
            "1/1 [==============================] - 0s 15ms/step\n"
          ]
        },
        {
          "output_type": "execute_result",
          "data": {
            "text/plain": [
              "'tulip'"
            ],
            "application/vnd.google.colaboratory.intrinsic+json": {
              "type": "string"
            }
          },
          "metadata": {},
          "execution_count": 16
        }
      ]
    }
  ]
}